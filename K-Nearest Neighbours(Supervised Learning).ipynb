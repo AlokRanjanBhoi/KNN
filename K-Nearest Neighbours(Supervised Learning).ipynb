{
 "cells": [
  {
   "cell_type": "markdown",
   "metadata": {},
   "source": [
    "### Breakdown of the code\n",
    "    1. Importing libraries\n",
    "    2. Create some data for classification\n",
    "    3. Write the kNN workflow\n",
    "    4. Finally, run knn on the data and observe results"
   ]
  },
  {
   "cell_type": "code",
   "execution_count": 22,
   "metadata": {
    "collapsed": true
   },
   "outputs": [],
   "source": [
    "import numpy as np\n",
    "from matplotlib import pyplot as plt\n",
    "%matplotlib inline"
   ]
  },
  {
   "cell_type": "code",
   "execution_count": 23,
   "metadata": {
    "scrolled": true
   },
   "outputs": [
    {
     "name": "stdout",
     "output_type": "stream",
     "text": [
      "(500, 2) (500, 2)\n"
     ]
    }
   ],
   "source": [
    "# First we need to create some data. For that, we'll be using a proability distribution\n",
    "# We'll try to define some parameters for the distribution, but before that\n",
    "# let's discuss what these parameters do for a distribution\n",
    "mean_01 = np.asarray([0., 2.])\n",
    "sigma_01 = np.asarray([[1.0, 0.0], [0.0, 1.0]])\n",
    "\n",
    "mean_02 = np.asarray([4., 0.])\n",
    "sigma_02 = np.asarray([[1.0, 0.0], [0.0, 1.0]])\n",
    "\n",
    "\n",
    "data_01 = np.random.multivariate_normal(mean_01, sigma_01, 500)\n",
    "data_02 = np.random.multivariate_normal(mean_02, sigma_02, 500)\n",
    "print(data_01.shape, data_02.shape)"
   ]
  },
  {
   "cell_type": "code",
   "execution_count": 24,
   "metadata": {},
   "outputs": [
    {
     "data": {
      "image/png": "[encoded data removed]",
      "text/plain": [
       "<matplotlib.figure.Figure at 0x1d1c3d14240>"
      ]
     },
     "metadata": {},
     "output_type": "display_data"
    }
   ],
   "source": [
    "plt.figure(0)\n",
    "#plt.xlim(-2, 10)\n",
    "#plt.ylim(-2, 10)\n",
    "plt.grid('on')\n",
    "plt.scatter(data_01[:, 0], data_01[:, 1], color='red')\n",
    "plt.scatter(data_02[:, 0], data_02[:, 1], color='green')\n",
    "plt.show()"
   ]
  },
  {
   "cell_type": "code",
   "execution_count": 25,
   "metadata": {
    "collapsed": true
   },
   "outputs": [],
   "source": [
    "labels = np.zeros((1000, 1))\n",
    "labels[500:, :] = 1.0"
   ]
  },
  {
   "cell_type": "code",
   "execution_count": 26,
   "metadata": {},
   "outputs": [
    {
     "name": "stdout",
     "output_type": "stream",
     "text": [
      "(1000, 2)\n"
     ]
    }
   ],
   "source": [
    "data = np.concatenate([data_01, data_02], axis=0)\n",
    "print(data.shape)"
   ]
  },
  {
   "cell_type": "code",
   "execution_count": 27,
   "metadata": {},
   "outputs": [
    {
     "name": "stdout",
     "output_type": "stream",
     "text": [
      "[608 531 944 111 953 650 134 272 974 287]\n"
     ]
    }
   ],
   "source": [
    "ind = np.arange(1000)\n",
    "np.random.shuffle(ind)\n",
    "\n",
    "print(ind[:10])"
   ]
  },
  {
   "cell_type": "code",
   "execution_count": 28,
   "metadata": {
    "collapsed": true
   },
   "outputs": [],
   "source": [
    "data = data[ind]\n",
    "labels = labels[ind]"
   ]
  },
  {
   "cell_type": "code",
   "execution_count": 29,
   "metadata": {},
   "outputs": [
    {
     "name": "stdout",
     "output_type": "stream",
     "text": [
      "(1000, 2) (1000, 1)\n"
     ]
    }
   ],
   "source": [
    "print(data.shape, labels.shape)"
   ]
  },
  {
   "cell_type": "code",
   "execution_count": 30,
   "metadata": {
    "collapsed": true
   },
   "outputs": [],
   "source": [
    "def distance(x1, x2):\n",
    "    return np.sqrt(((x1-x2)**2).sum())\n",
    "\n",
    "def knn(x, train, targets, k=5):\n",
    "    m = train.shape[0]\n",
    "    dist = []\n",
    "    for ix in range(m):\n",
    "        # compute distance from each point and store in dist\n",
    "        dist.append(distance(x, train[ix]))\n",
    "    dist = np.asarray(dist)\n",
    "    indx = np.argsort(dist)\n",
    "    sorted_labels = labels[indx][:k]\n",
    "    counts = np.unique(sorted_labels, return_counts=True)\n",
    "    return counts[0][np.argmax(counts[1])]"
   ]
  },
  {
   "cell_type": "code",
   "execution_count": 31,
   "metadata": {},
   "outputs": [
    {
     "data": {
      "text/plain": [
       "1.0"
      ]
     },
     "execution_count": 31,
     "metadata": {},
     "output_type": "execute_result"
    }
   ],
   "source": [
    "x_test = np.asarray([4.0, -2.0])\n",
    "knn(x_test, data, labels)"
   ]
  },
  {
   "cell_type": "code",
   "execution_count": 32,
   "metadata": {},
   "outputs": [
    {
     "name": "stdout",
     "output_type": "stream",
     "text": [
      "(750, 2) (250, 2)\n",
      "(750, 1) (250, 1)\n"
     ]
    }
   ],
   "source": [
    "# split the data into training and testing\n",
    "split = int(data.shape[0] * 0.75)\n",
    "\n",
    "X_train = data[:split]\n",
    "X_test = data[split:]\n",
    "\n",
    "y_train = labels[:split]\n",
    "y_test = labels[split:]\n",
    "\n",
    "print(X_train.shape, X_test.shape)\n",
    "print(y_train.shape, y_test.shape)"
   ]
  },
  {
   "cell_type": "code",
   "execution_count": 33,
   "metadata": {},
   "outputs": [
    {
     "name": "stdout",
     "output_type": "stream",
     "text": [
      "(250, 1)\n"
     ]
    }
   ],
   "source": [
    "# create a placeholder for storing test predictions\n",
    "preds = []\n",
    "\n",
    "# run a loop over every testing example and store the predictions\n",
    "for tx in range(X_test.shape[0]):\n",
    "    preds.append(knn(X_test[tx], X_train, y_train))\n",
    "preds = np.asarray(preds).reshape((250, 1))\n",
    "print(preds.shape)"
   ]
  },
  {
   "cell_type": "code",
   "execution_count": 34,
   "metadata": {},
   "outputs": [
    {
     "name": "stdout",
     "output_type": "stream",
     "text": [
      "98.8\n"
     ]
    }
   ],
   "source": [
    "print(100*(preds == y_test).sum() / float(preds.shape[0]))"
   ]
  },
  {
   "cell_type": "code",
   "execution_count": null,
   "metadata": {
    "collapsed": true
   },
   "outputs": [],
   "source": []
  }
 ],
 "metadata": {
  "kernelspec": {
   "display_name": "Python 3",
   "language": "python",
   "name": "python3"
  },
  "language_info": {
   "codemirror_mode": {
    "name": "ipython",
    "version": 3
   },
   "file_extension": ".py",
   "mimetype": "text/x-python",
   "name": "python",
   "nbconvert_exporter": "python",
   "pygments_lexer": "ipython3",
   "version": "3.6.3"
  }
 },
 "nbformat": 4,
 "nbformat_minor": 2
}
